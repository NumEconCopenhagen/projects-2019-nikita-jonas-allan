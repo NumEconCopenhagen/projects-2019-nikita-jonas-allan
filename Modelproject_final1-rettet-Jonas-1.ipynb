{
 "cells": [
  {
   "cell_type": "markdown",
   "metadata": {},
   "source": [
    "# Cournot competition: Oligopoly and monopoly\n"
   ]
  },
  {
   "cell_type": "markdown",
   "metadata": {},
   "source": [
    "In our model project we consider a market of goods with Cournot competetion, known from various microeconomic courses. First, we consinder and solve the most Cournot competetion with oligoploly, and later on extend the model to monopoly with taxation\n",
    "\n",
    "Cournot competition describtions a situation where $N$ number of firms competive on quanteties on the same market for goods. \n",
    "\n",
    "In our numerical analysis, we begin by importing relevant packages"
   ]
  },
  {
   "cell_type": "code",
   "execution_count": 80,
   "metadata": {},
   "outputs": [],
   "source": [
    "import pandas as pd\n",
    "import numpy as np\n",
    "from numpy import array\n",
    "import matplotlib.pyplot as plt\n",
    "from scipy.optimize import minimize\n",
    "from scipy import optimize,arange\n",
    "from ipywidgets import interact, interactive, fixed, interact_manual\n",
    "import ipywidgets as widgets\n",
    "import math\n",
    "from IPython.display import display, Markdown, clear_output\n",
    "from traitlets import traitlets\n"
   ]
  },
  {
   "cell_type": "markdown",
   "metadata": {},
   "source": [
    "## Cournot - a brief summary"
   ]
  },
  {
   "cell_type": "markdown",
   "metadata": {},
   "source": [
    "In this section, we describe the setup and solve it theoreticly when 3 firms compete on quanteties on the same market of goods. \n",
    "We have take some of the most important assumptions for a Cournot model, the rest can be seen when clicking on 'source':\n",
    "* $N$ number of firms produce a homogeneous product, in our case we set N=3.\n",
    "* There is no cooperation between the firms.\n",
    "* The firms compete in quantities and choose quantities simultaneously.\n",
    "* The firms are economically rational and act strategically, to maximize profit given their competitors' decisions."
   ]
  },
  {
   "cell_type": "markdown",
   "metadata": {},
   "source": [
    "### Cournot Oligopoly"
   ]
  },
  {
   "cell_type": "markdown",
   "metadata": {},
   "source": [
    "We consider the following market with 3 firms with the total market production and the inverse demand function:\n",
    "\\begin{equation}\n",
    "p=1-x_1-b(x_2+x_3)\n",
    "\\end{equation}\n",
    "where 0<b<0.5 both are parameters. 'b' is the rate of substitution. $x_1,x_2,x_3$ is the production of each of the three firms"
   ]
  },
  {
   "cell_type": "code",
   "execution_count": 81,
   "metadata": {},
   "outputs": [],
   "source": [
    "def demand(x1,x2,x3,b):\n",
    "    return (1-x1-b*x2-b*x3)"
   ]
  },
  {
   "cell_type": "markdown",
   "metadata": {},
   "source": [
    "Since all the firms produce the same product and have the same costs, we can define the profit function for firm 1 as:\n",
    "\\begin{equation}\n",
    "\\Pi_1=px_1-cx_1\n",
    "\\end{equation}\n",
    "where $px_1$ is the total revenue of the production and $cx_1$ is the total cost of the production, note c is the marginal cost and we have that $0\\le c\\le 0,5.$\n"
   ]
  },
  {
   "cell_type": "code",
   "execution_count": 82,
   "metadata": {},
   "outputs": [],
   "source": [
    "#Here we define the cost function\n",
    "def cost(x,c):\n",
    "    if x == 0:\n",
    "     cost = 0\n",
    "    else:\n",
    "     cost = c*x\n",
    "    return cost\n",
    "\n",
    "#Here we define the profit function and state that if profit is less than 0\n",
    "#then it is better to produce nothing. \n",
    "\n",
    "def profit(x1,x2,x3,c1,b):\n",
    "    profit = demand(x1,x2,x3,b)*x1 -cost(x1,c1)\n",
    "    if profit < 0:\n",
    "        profit == 0\n",
    "    else:\n",
    "        profit = demand(x1,x2,x3,b)*x1 -cost(x1,c1)\n",
    "    \n",
    "    return profit"
   ]
  },
  {
   "cell_type": "markdown",
   "metadata": {},
   "source": [
    "We now find the first order condition, (FOC), and afterwards calculate the best response function, (BR), of firm 1, given the production of firm 2 and 3.  \n",
    "FOC:\n",
    "\\begin{equation}\n",
    "\\frac{\\partial \\Pi_1}{\\partial x_1}=0 \n",
    "\\longleftrightarrow 1-bx_1-bx_2-bx_3-c=0 \n",
    "\\end{equation}\n",
    "We can now find the BR function of firm 1, given the production of firm 2 and frim 2:\n",
    "\\begin{equation}\n",
    "1-bx_2-bx_3-c=2x_1 \\leftrightarrow x_1 =\\big(\\frac{1-c-bx_2-bx_3}{2}\\big) \n",
    "\\end{equation}\n",
    "The BR function can therefore be defined as:\n",
    "\\begin{equation}\n",
    "BR_1(x_2,x_3)=\\big(\\frac{1-c-bx_2-bx_3}{2}\\big)\n",
    "\\end{equation}\n",
    "\n",
    "Note: In our code, we have defined the BR function as \"reaction\"."
   ]
  },
  {
   "cell_type": "code",
   "execution_count": 83,
   "metadata": {},
   "outputs": [],
   "source": [
    "def reaction(x2,x3,c1,b):\n",
    "    x1 = optimize.brute(lambda x: -profit(x,x2,x3,c1,b), ((-10,10,),), Ns=100) #optimize.brute allways minimize. Therefore-\n",
    "    # we want to use the function so we minimize the negative profit which means that we maximize the profit. \n",
    "    return x1[0]      \n",
    "\n",
    "def vector_reaction(x,param): # We create a function where the vector of x* (which is to total-\n",
    "    #output of each firm) - f(x*) is equal to zero. This is because we want to find the equilibrium where each firm produce the output in demand.  \n",
    "    return array(x)-array([reaction(x[0],x[2],param[1],param[0]), reaction(x[0],x[1],param[1],param[0]),\n",
    "                          reaction(x[1],x[2],param[2],param[0])])\n",
    "\n",
    "#  param is a list of parameters, param = (b1,c1,c2,c3)."
   ]
  },
  {
   "cell_type": "markdown",
   "metadata": {},
   "source": [
    "We can now find the Nash Equilibrium on the market, and since we have symmetry we have:\n",
    "\\begin{equation}\n",
    "x_1=x_2=x_3=x^*\n",
    "\\end{equation}\n",
    "Given symmetry we find the produced quantity of goods as:\n",
    "\\begin{equation}\n",
    "x^*= \\big(\\frac{1-c-bx^*-bx^*}{2}\\big)\n",
    "\\end{equation}\n",
    "This is reduced to:\n",
    "\\begin{equation}\n",
    "x^*=\\frac{1-c}{4}\n",
    "\\end{equation}\n",
    "\n",
    "In the next two instances of our code, we will assign both the marginal cost imposed on given firms, but also the degree of substitution between the goods these firms produce. \n",
    "The substituion value of 1 gives us the goods are perfect substitutes while 0.0 gives us the goods are perfect compliments."
   ]
  },
  {
   "cell_type": "code",
   "execution_count": 84,
   "metadata": {},
   "outputs": [],
   "source": [
    "sub = widgets.FloatSlider(    #Here we define a interaktive widgets\n",
    "    value = 1.00,   \n",
    "    min = 0.0,\n",
    "    max = 1.00,\n",
    "    step = 0.01,\n",
    "    description = 'Subsitution:',\n",
    "    disabled = False,\n",
    "    continuous_update=True,\n",
    "    orientation = 'horizontal',\n",
    "    readout=True,\n",
    "    readout_format='.2f'\n",
    "    \n",
    ")\n",
    "cost1 = widgets.BoundedFloatText(\n",
    "    value = 0.00,\n",
    "    min = 0.00,\n",
    "    max = 0.50,\n",
    "    step = 0.01,\n",
    "    description = 'Cost firm 1',\n",
    "    disabled = False,\n",
    "    continuous_update = True,\n",
    "    readout = True,\n",
    "    readout_format = '.2f'\n",
    ")\n",
    "\n",
    "cost2 = widgets.BoundedFloatText(\n",
    "    value = 0.00,\n",
    "    min = 0.00,\n",
    "    max = 0.50,\n",
    "    step = 0.01,\n",
    "    description = 'Cost firm 2',\n",
    "    disabled = False,\n",
    "    continuous_update = True,\n",
    "    readout = True,\n",
    "    readout_format = '.2f'\n",
    ")\n",
    "\n",
    "cost3 = widgets.BoundedFloatText(\n",
    "    value = 0.00,\n",
    "    min = 0.00,\n",
    "    max = 0.50,\n",
    "    step = 0.01,\n",
    "    description = 'Cost firm 3',\n",
    "    disabled = False,\n",
    "    continuous_update = True,\n",
    "    readout = True,\n",
    "    readout_format = '.2f'\n",
    ")"
   ]
  },
  {
   "cell_type": "markdown",
   "metadata": {},
   "source": [
    "The cost for firms is also limited to between 0 and 0.5 to avoid any potential error in our solution."
   ]
  },
  {
   "cell_type": "code",
   "execution_count": 85,
   "metadata": {},
   "outputs": [
    {
     "data": {
      "application/vnd.jupyter.widget-view+json": {
       "model_id": "5f8e4cfbddc04d46a093b281c3d55fff",
       "version_major": 2,
       "version_minor": 0
      },
      "text/plain": [
       "HBox(children=(VBox(children=(FloatSlider(value=1.0, description='Subsitution:', max=1.0, step=0.01), BoundedF…"
      ]
     },
     "metadata": {},
     "output_type": "display_data"
    }
   ],
   "source": [
    "#Defining values for each firm\n",
    "widgets.HBox([widgets.VBox([sub, cost1, cost2, cost3])])"
   ]
  },
  {
   "cell_type": "markdown",
   "metadata": {},
   "source": [
    "We can now insert this solution into our inverse demand function to determine the price:\n",
    "\\begin{equation}\n",
    "p=1-x_1-b(x_2+x_3) \n",
    "\\leftrightarrow\n",
    "\\end{equation}\n",
    "\n",
    "\\begin{equation}\n",
    "p=1-b(\\frac{1-c}{4b}+\\frac{1-c}{4b}+\\frac{1-c}{4b})\n",
    "\\leftrightarrow\n",
    "\\end{equation}\n",
    "\n",
    "\\begin{equation}\n",
    "p=1-(\\frac{1-c}{4}+\\frac{1-c}{4}+\\frac{1-c}{4})\n",
    "\\leftrightarrow\n",
    "\\end{equation}\n",
    "\n",
    "\\begin{equation}\n",
    "p=1-(\\frac{3}{4}-\\frac{3c}{4})\n",
    "\\leftrightarrow \n",
    "\\end{equation}\n",
    "\n",
    "\\begin{equation}\n",
    "p=1-\\frac{3}{4}+\\frac{3c}{4} \\leftrightarrow \n",
    "\\end{equation}\n",
    "\n",
    "\\begin{equation}\n",
    "p=\\frac{4}{4}-\\frac{3}{4}+\\frac{3c}{4}  \\leftrightarrow  \n",
    "\\end{equation}\n",
    "\n",
    "\\begin{equation}\n",
    "p=\\frac{1+3c}{4} \n",
    "\\end{equation}\n"
   ]
  },
  {
   "cell_type": "markdown",
   "metadata": {},
   "source": [
    "An impornant note about the next section. The values for substitutions and costs are updated continiously. As such, when these values are changed the next lines of code has to be refreshed. Once refreshed all you have to do is press \"Calculate\" and you will get a value."
   ]
  },
  {
   "cell_type": "code",
   "execution_count": 86,
   "metadata": {},
   "outputs": [
    {
     "data": {
      "application/vnd.jupyter.widget-view+json": {
       "model_id": "2762bbd4f83840efa4c13d01700fb488",
       "version_major": 2,
       "version_minor": 0
      },
      "text/plain": [
       "VBox(children=(Label(value='If you set b to 0, the model will solve it as 3 monopoly firms, independtent of ea…"
      ]
     },
     "metadata": {},
     "output_type": "display_data"
    }
   ],
   "source": [
    "#The solution part \n",
    "\n",
    "param = [sub.value, cost1.value, cost2.value, cost3.value]\n",
    "x0 = [0.0, 0.0, 0.0]   # this is our initial \"guess\" of the production x*\n",
    "\n",
    "ans = optimize.fsolve(vector_reaction, x0, args = (param))\n",
    "\n",
    "button = widgets.Button(description='Calculate Price')\n",
    "out = widgets.Output() \n",
    "\n",
    "\n",
    "caption = widgets.Label(value='If you set b to 0, the model will solve it as 3 monopoly firms, independtent of each, as they operate on different markets')\n",
    "caption1 = widgets.Label(value='Remember to refresh the code (The solution part) above if you change the values of b or c1,c2,c3')\n",
    "\n",
    "def on_button_clicked(b):\n",
    "    with out:\n",
    "        refresh_output()\n",
    "        print(sub)\n",
    "\n",
    "\n",
    "def on_button_clicked(b):\n",
    "    with out:\n",
    "        clear_output()\n",
    "        print(ans)\n",
    "\n",
    "# linking button and function together using a button's method\n",
    "button.on_click(on_button_clicked)\n",
    "# displaying button and its output together\n",
    "widgets.VBox([caption,caption1,button,out])"
   ]
  },
  {
   "cell_type": "markdown",
   "metadata": {},
   "source": [
    "Now that we have solved the Cournot oligopoly both theoretical and with help of Python, we will in the next part assume the three firms merge into one big firm."
   ]
  },
  {
   "cell_type": "markdown",
   "metadata": {},
   "source": [
    "### Cournot Monopoly"
   ]
  },
  {
   "cell_type": "markdown",
   "metadata": {},
   "source": [
    "We now assume all three firms merge into one big firm. First, we define inverse demand function of the newly established firm:\n",
    "\n",
    "\\begin{equation}\n",
    "p=1-x\n",
    "\\end{equation}\n",
    "x is the total production of the firm."
   ]
  },
  {
   "cell_type": "code",
   "execution_count": 74,
   "metadata": {},
   "outputs": [],
   "source": [
    "def demand(x1):\n",
    "    return (1-x1)\n",
    "\n",
    "def cost(x,c):\n",
    "    if x == 0:\n",
    "     cost = 0\n",
    "    else:\n",
    "     cost = c*x\n",
    "    return cost"
   ]
  },
  {
   "cell_type": "markdown",
   "metadata": {},
   "source": [
    "The revenue for the firm will be defined as:\n",
    "\\begin{equation}\n",
    "R=p*x=(1-x)*x\n",
    "\\end{equation}"
   ]
  },
  {
   "cell_type": "code",
   "execution_count": 75,
   "metadata": {},
   "outputs": [],
   "source": [
    "def revenue(x1,c1):\n",
    "    return demand(x1)*x1 -cost(x1,c1)"
   ]
  },
  {
   "cell_type": "markdown",
   "metadata": {},
   "source": [
    "Since we work with monopoly, we know that the marginal revenue, MR, always will be equal to the marginal cost,MC. First we define the marginal revenue\n",
    "\\begin{equation}\n",
    "MR=\\frac{\\partial R}{\\partial X}=0 \n",
    "\\leftrightarrow\n",
    "\\end{equation}\n",
    "\\begin{equation}\n",
    "MR=1-2X\n",
    "\\end{equation}\n"
   ]
  },
  {
   "cell_type": "code",
   "execution_count": 76,
   "metadata": {},
   "outputs": [],
   "source": [
    "def reaction(c1):\n",
    "    x1 = optimize.brute(lambda x: -revenue(x,c1), ((0,1,),), Ns=10000) # brute minimizes the function;\n",
    "                                                                 # Its is the same as above\n",
    "    return x1[0]                             "
   ]
  },
  {
   "cell_type": "code",
   "execution_count": 77,
   "metadata": {},
   "outputs": [],
   "source": [
    "def vector_reaction(x,param): # param = (c1)\n",
    "    return array(x)-array([reaction(param[0])])  "
   ]
  },
  {
   "cell_type": "markdown",
   "metadata": {},
   "source": [
    "We now define the marginal cost:\n",
    "\\begin{equation}\n",
    "MC=c\n",
    "\\end{equation}\n",
    "\n",
    "We now set MR=MC\n",
    "\n",
    "\\begin{equation}\n",
    "MR=MC\n",
    "\\leftrightarrow\n",
    "\\end{equation}\n",
    "\n",
    "\\begin{equation}\n",
    "1-2X=c \\leftrightarrow\n",
    "\\end{equation}\n",
    "\n",
    "\\begin{equation}\n",
    "1-c=2bX \\leftrightarrow\n",
    "\\end{equation}\n",
    "\n",
    "\\begin{equation}\n",
    "\\frac{1-c}{2}=X\n",
    "\\end{equation}\n",
    "\n",
    "\\begin{equation}\n",
    "X^{Monopoly}=\\frac{1-c}{2}\n",
    "\\end{equation}\n",
    "\n",
    "As we are working with monopoly now, we do not chose whenever a product is a perfect substitute or perfect compliment, as we are only considering one good. For now we just define 'b' as a parameter, the only important factor is how much it cost the monopoly firm to produce the given good."
   ]
  },
  {
   "cell_type": "code",
   "execution_count": 78,
   "metadata": {},
   "outputs": [
    {
     "data": {
      "application/vnd.jupyter.widget-view+json": {
       "model_id": "8f67262944054082a59d0186a22cf00b",
       "version_major": 2,
       "version_minor": 0
      },
      "text/plain": [
       "BoundedFloatText(value=0.0, continuous_update=True, description='Monopoly cost', max=0.5, step=0.01)"
      ]
     },
     "metadata": {},
     "output_type": "display_data"
    }
   ],
   "source": [
    "costM = widgets.BoundedFloatText(\n",
    "    value = 0.00,\n",
    "    min = 0.00,\n",
    "    max = 0.50,\n",
    "    step = 0.01,\n",
    "    description = 'Monopoly cost',\n",
    "    disabled = False,\n",
    "    continuous_update = True,\n",
    "    readout = True,\n",
    "    readout_format = '.2f'\n",
    ")\n",
    "costM"
   ]
  },
  {
   "cell_type": "markdown",
   "metadata": {},
   "source": [
    "We can now identify the monopoly price by inserting the monopoly quantity in the inverse demand function:\n",
    "\\begin{equation}\n",
    "p^{Monopoly}=1-X^{Monopoly} \n",
    "\\leftrightarrow\n",
    "\\end{equation}\n",
    "\n",
    "\\begin{equation}\n",
    "p^{monopoly}=1-\\frac{1+c}{2}\n",
    "\\leftrightarrow\n",
    "\\end{equation}\n",
    "\n",
    "\\begin{equation}\n",
    "p^{monopoly}= \\frac{1+c}{2}\n",
    "\\end{equation}\n",
    "\n",
    "Note: Same rules apply to this button as to the last one. That said, there is a minor bug, where when you press the previous button this button will show its result. Once this new button is pressed the values update to correct monopoly values"
   ]
  },
  {
   "cell_type": "code",
   "execution_count": 79,
   "metadata": {},
   "outputs": [
    {
     "data": {
      "application/vnd.jupyter.widget-view+json": {
       "model_id": "f13527ef0aa844eab31cb4ea296a37f3",
       "version_major": 2,
       "version_minor": 0
      },
      "text/plain": [
       "VBox(children=(Button(description='Calculate Price', style=ButtonStyle()), Output()))"
      ]
     },
     "metadata": {},
     "output_type": "display_data"
    }
   ],
   "source": [
    "param = [costM.value]\n",
    "x0 = [0.0]\n",
    "\n",
    "ansM = optimize.fsolve(vector_reaction, x0, args = (param))\n",
    "\n",
    "\n",
    "button = widgets.Button(description='Calculate Price')\n",
    "out = widgets.Output() \n",
    "\n",
    "def on_button_clicked(b):\n",
    "    with out:\n",
    "        refresh_output() \n",
    "        print(sub)\n",
    "\n",
    "\n",
    "def on_button_clicked(b):\n",
    "    with out:\n",
    "        clear_output()\n",
    "        print(ansM)\n",
    "\n",
    "# linking button and function together using a button's method\n",
    "button.on_click(on_button_clicked)\n",
    "# displaying button and its output together\n",
    "widgets.VBox([button,out])"
   ]
  },
  {
   "cell_type": "markdown",
   "metadata": {},
   "source": [
    "Now that we done both the theoretical and nummerical analysis for Cournot competition, we come up with the final remarks.\n",
    "When we compare the price for monopoly vs. oligopoly, we see the monopoly price is the highest (for the case when c=0 in both scenarios)."
   ]
  }
 ],
 "metadata": {
  "kernelspec": {
   "display_name": "Python 3",
   "language": "python",
   "name": "python3"
  },
  "language_info": {
   "codemirror_mode": {
    "name": "ipython",
    "version": 3
   },
   "file_extension": ".py",
   "mimetype": "text/x-python",
   "name": "python",
   "nbconvert_exporter": "python",
   "pygments_lexer": "ipython3",
   "version": "3.7.1"
  }
 },
 "nbformat": 4,
 "nbformat_minor": 2
}
