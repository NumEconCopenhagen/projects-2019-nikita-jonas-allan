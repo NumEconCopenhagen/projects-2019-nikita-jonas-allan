{
 "cells": [
  {
   "cell_type": "markdown",
   "metadata": {},
   "source": [
    "# Cournot competition: Oligopoly and monopoly\n"
   ]
  },
  {
   "cell_type": "markdown",
   "metadata": {},
   "source": [
    "In our model project we consider a market of goods with Cournot competetion, known from various microeconomic courses. First, we consinder and solve the most Cournot competetion with oligoploly, and later on extend the model to monopoly with taxation\n",
    "\n",
    "Cournot competition describtions a situation where $N$ number of firms competive on quanteties on the same market for goods. This economic model is by Antoine Augustin Cournot. \n",
    "\n",
    "In our numerical analysis, we begin by importing relevant packages"
   ]
  },
  {
   "cell_type": "code",
   "execution_count": 1,
   "metadata": {},
   "outputs": [],
   "source": [
    "import pandas as pd\n",
    "import numpy as np\n",
    "from numpy import array\n",
    "import matplotlib.pyplot as plt\n",
    "from scipy.optimize import minimize\n",
    "from scipy import optimize,arange\n",
    "from ipywidgets import interact, interactive, fixed, interact_manual\n",
    "import ipywidgets as widgets\n",
    "import math\n",
    "from IPython.display import display, Markdown, clear_output\n",
    "from traitlets import traitlets\n"
   ]
  },
  {
   "cell_type": "markdown",
   "metadata": {},
   "source": [
    "## Cournot setup"
   ]
  },
  {
   "cell_type": "markdown",
   "metadata": {},
   "source": [
    "In this section, we describe the setup and solve it theoreticly when 3 firms compete on quanteties on the same market of goods. \n",
    "We have take some of the most important assumptions for a Cournot model, the rest can be seen when clicking on 'source':\n",
    "* $N$ number of firms produce a homogeneous product, in our case we set N=2.\n",
    "* There is no cooperation between the firms.\n",
    "* The firms compete in quantities and choose quantities simultaneously.\n",
    "* The firms are economically rational and act strategically, to maximize profit given their competitors' decisions."
   ]
  },
  {
   "cell_type": "markdown",
   "metadata": {},
   "source": [
    "### Cournot Oligopoly"
   ]
  },
  {
   "cell_type": "markdown",
   "metadata": {},
   "source": [
    "We consider the following market with 3 firms with the total market production and the inverse demand function:\n",
    "\\begin{equation}\n",
    "p=1-b(q_1+q_2+q_3)\n",
    "\\end{equation}\n",
    "where b>0."
   ]
  },
  {
   "cell_type": "code",
   "execution_count": 2,
   "metadata": {},
   "outputs": [],
   "source": [
    "def demand(x1,x2,x3,b):\n",
    "    return (1-b*x1-b*x2-b*x3)"
   ]
  },
  {
   "cell_type": "markdown",
   "metadata": {},
   "source": [
    "Since all the firms produce the same product and have the same costs, we can define the profit function for firm 1 as:\n",
    "\\begin{equation}\n",
    "\\Pi_1=pq_1-cq_1\n",
    "\\end{equation}\n",
    "where $pq_1$ is the total revenue of the production and $cq_1$ is the total cost of the production.\n"
   ]
  },
  {
   "cell_type": "code",
   "execution_count": 3,
   "metadata": {},
   "outputs": [],
   "source": [
    "def cost(x,c):\n",
    "    if x == 0:\n",
    "     cost = 0\n",
    "    else:\n",
    "     cost = c*x\n",
    "    return cost\n",
    "\n",
    "def profit(x1,x2,x3,c1,b):\n",
    "    profit = demand(x1,x2,x3,b)*x1 -cost(x1,c1)\n",
    "    if profit < 0:\n",
    "        profit == 0\n",
    "    else:\n",
    "        profit = demand(x1,x2,x3,b)*x1 -cost(x1,c1)\n",
    "    \n",
    "    return profit"
   ]
  },
  {
   "cell_type": "markdown",
   "metadata": {},
   "source": [
    "We now find the first order condition, (FOC), and afterwards calculate the best response function, (BR), of firm 1, given the production of firm 2 and 3.  \n",
    "FOC:\n",
    "\\begin{equation}\n",
    "\\frac{\\partial \\Pi_1}{\\partial q_1}=0 \n",
    "\\longleftrightarrow 1-2bq_1-bq_2-bq_3-c=0 \n",
    "\\end{equation}\n",
    "We can now find the BR function of firm 1, given the production of firm 2 and frim 2:\n",
    "\\begin{equation}\n",
    "1-bq_2-bq_3-c=2bq_1 \\leftrightarrow q_1 =\\big(\\frac{1-c-bq_2-bq_3}{2b}\\big) \n",
    "\\end{equation}\n",
    "The BR function can therefore be defined as:\n",
    "\\begin{equation}\n",
    "BR_1(q_2,q_3)=\\big(\\frac{1-c-bq_2-bq_3}{2b}\\big)\n",
    "\\end{equation}\n",
    "\n",
    "We define BR function as \"reaction\" in our analysis"
   ]
  },
  {
   "cell_type": "code",
   "execution_count": 20,
   "metadata": {},
   "outputs": [],
   "source": [
    "def reaction(x2,x3,c1,b):\n",
    "    x1 = optimize.brute(lambda x: -profit(x,x2,x3,c1,b), ((-10,10,),), Ns=100) \n",
    "    return x1[0]      \n",
    "\n",
    "def vector_reaction(x,param): # vector param = (b1,c1,c2,c3)\n",
    "    return array(x)-array([reaction(x[0],x[2],param[1],param[0]), reaction(x[0],x[1],param[1],param[0]),\n",
    "                          reaction(x[1],x[2],param[2],param[0])])"
   ]
  },
  {
   "cell_type": "markdown",
   "metadata": {},
   "source": [
    "We can now find the Nash Equilibrium on the market, and since we have symmetry we have:\n",
    "\\begin{equation}\n",
    "q_1=q_2=q_3=q^*\n",
    "\\end{equation}\n",
    "Given symmetry we find the produced quantity of goods as:\n",
    "\\begin{equation}\n",
    "q^*= \\big(\\frac{1-c-bq^*-bq^*}{2b}\\big)\n",
    "\\end{equation}\n",
    "This is reduced to:\n",
    "\\begin{equation}\n",
    "q^*=\\frac{1-c}{4b}\n",
    "\\end{equation}\n",
    "\n",
    "In the next two instances of our code, we will assign both the marginal cost imposed on give firms, but also the degree of substitution between the goods these firms produce. \n",
    "The substituion value of 1 gives us perfect substitutes while 0.01 gives us (almost) perfect compliments."
   ]
  },
  {
   "cell_type": "code",
   "execution_count": 6,
   "metadata": {},
   "outputs": [],
   "source": [
    "sub = widgets.FloatSlider(\n",
    "    value = 1.00,\n",
    "    min = 0.01,\n",
    "    max = 1.00,\n",
    "    step = 0.01,\n",
    "    description = 'Subsitution:',\n",
    "    disabled = False,\n",
    "    continuous_update=True,\n",
    "    orientation = 'horizontal',\n",
    "    readout=True,\n",
    "    readout_format='.2f'\n",
    "    \n",
    ")\n",
    "cost1 = widgets.BoundedFloatText(\n",
    "    value = 0.00,\n",
    "    min = 0.00,\n",
    "    max = 0.50,\n",
    "    step = 0.01,\n",
    "    description = 'Cost firm 1',\n",
    "    disabled = False,\n",
    "    continuous_update = True,\n",
    "    readout = True,\n",
    "    readout_format = '.2f'\n",
    ")\n",
    "\n",
    "cost2 = widgets.BoundedFloatText(\n",
    "    value = 0.00,\n",
    "    min = 0.00,\n",
    "    max = 0.50,\n",
    "    step = 0.01,\n",
    "    description = 'Cost firm 2',\n",
    "    disabled = False,\n",
    "    continuous_update = True,\n",
    "    readout = True,\n",
    "    readout_format = '.2f'\n",
    ")\n",
    "\n",
    "cost3 = widgets.BoundedFloatText(\n",
    "    value = 0.00,\n",
    "    min = 0.00,\n",
    "    max = 0.50,\n",
    "    step = 0.01,\n",
    "    description = 'Cost firm 3',\n",
    "    disabled = False,\n",
    "    continuous_update = True,\n",
    "    readout = True,\n",
    "    readout_format = '.2f'\n",
    ")"
   ]
  },
  {
   "cell_type": "markdown",
   "metadata": {},
   "source": [
    "In order to avoid dividing by 0, we set the slider between 0.01 and 1. The cost for firms is also limited to between 0 and 0.5 to avoid any potential error in our solution"
   ]
  },
  {
   "cell_type": "code",
   "execution_count": 7,
   "metadata": {},
   "outputs": [
    {
     "data": {
      "application/vnd.jupyter.widget-view+json": {
       "model_id": "8f2e82c5863b4e5d95ee79733d7372be",
       "version_major": 2,
       "version_minor": 0
      },
      "text/plain": [
       "HBox(children=(VBox(children=(FloatSlider(value=1.0, description='Subsitution:', max=1.0, min=0.01, step=0.01)…"
      ]
     },
     "metadata": {},
     "output_type": "display_data"
    }
   ],
   "source": [
    "widgets.HBox([widgets.VBox([sub, cost1, cost2, cost3])])"
   ]
  },
  {
   "cell_type": "markdown",
   "metadata": {},
   "source": [
    "We can now insert this solution into our inverse demand function to determine the price:\n",
    "\\begin{equation}\n",
    "p=1-b(q_1+q_2+q_3) \n",
    "\\leftrightarrow\n",
    "\\end{equation}\n",
    "\n",
    "\\begin{equation}\n",
    "p=1-b(\\frac{1-c}{4b}+\\frac{1-c}{4b}+\\frac{1-c}{4b})\n",
    "\\leftrightarrow\n",
    "\\end{equation}\n",
    "\n",
    "\\begin{equation}\n",
    "p=1-(\\frac{1-c}{4}+\\frac{1-c}{4}+\\frac{1-c}{4})\n",
    "\\leftrightarrow\n",
    "\\end{equation}\n",
    "\n",
    "\\begin{equation}\n",
    "p=1-(\\frac{3}{4}-\\frac{3c}{4})\n",
    "\\leftrightarrow \n",
    "\\end{equation}\n",
    "\n",
    "\\begin{equation}\n",
    "p=1-\\frac{3}{4}+\\frac{3c}{4} \\leftrightarrow \n",
    "\\end{equation}\n",
    "\n",
    "\\begin{equation}\n",
    "p=\\frac{4}{4}-\\frac{3}{4}+\\frac{3c}{4}  \\leftrightarrow  \n",
    "\\end{equation}\n",
    "\n",
    "\\begin{equation}\n",
    "p=\\frac{1+3c}{4} \n",
    "\\end{equation}\n"
   ]
  },
  {
   "cell_type": "markdown",
   "metadata": {},
   "source": [
    "An impornant note about the next section. The values for substitutions and costs are updated continiously. As such, when these values are changed the next lines of code has to be refreshed. Once refreshed all you have to do is press \"Calculate\" and you will get a value"
   ]
  },
  {
   "cell_type": "code",
   "execution_count": 8,
   "metadata": {},
   "outputs": [
    {
     "data": {
      "application/vnd.jupyter.widget-view+json": {
       "model_id": "a26219831d7b453ca476cb4af8784bdc",
       "version_major": 2,
       "version_minor": 0
      },
      "text/plain": [
       "VBox(children=(Button(description='Calculate', style=ButtonStyle()), Output()))"
      ]
     },
     "metadata": {},
     "output_type": "display_data"
    }
   ],
   "source": [
    "param = [sub.value, cost1.value, cost2.value, cost3.value]\n",
    "x0 = [0.0, 0.0, 0.0]\n",
    "\n",
    "ans = optimize.fsolve(vector_reaction, x0, args = (param))\n",
    "\n",
    "button = widgets.Button(description='Calculate')\n",
    "out = widgets.Output() \n",
    "\n",
    "def on_button_clicked(b):\n",
    "    with out:\n",
    "        refresh_output()\n",
    "        print(sub)\n",
    "\n",
    "\n",
    "def on_button_clicked(b):\n",
    "    with out:\n",
    "        clear_output()\n",
    "        print(ans)\n",
    "\n",
    "# linking button and function together using a button's method\n",
    "button.on_click(on_button_clicked)\n",
    "# displaying button and its output together\n",
    "widgets.VBox([button,out])"
   ]
  },
  {
   "cell_type": "markdown",
   "metadata": {},
   "source": [
    "### Cournot Monopoly"
   ]
  },
  {
   "cell_type": "markdown",
   "metadata": {},
   "source": [
    "We now assume all three firms merge into one firm. First we define inverse demand function:\n",
    "\n",
    "\\begin{equation}\n",
    "p=1-bQ\n",
    "\\end{equation}"
   ]
  },
  {
   "cell_type": "code",
   "execution_count": 9,
   "metadata": {},
   "outputs": [],
   "source": [
    "def demand(x1):\n",
    "    return (1-x1)\n",
    "\n",
    "def cost(x,c):\n",
    "    if x == 0:\n",
    "     cost = 0\n",
    "    else:\n",
    "     cost = c*x\n",
    "    return cost"
   ]
  },
  {
   "cell_type": "markdown",
   "metadata": {},
   "source": [
    "The revenue for the firm will be defined as:\n",
    "\\begin{equation}\n",
    "R=pQ=(1-bQ)Q\n",
    "\\end{equation}"
   ]
  },
  {
   "cell_type": "code",
   "execution_count": 10,
   "metadata": {},
   "outputs": [],
   "source": [
    "def revenue(x1,c1):\n",
    "    return demand(x1)*x1 -cost(x1,c1)"
   ]
  },
  {
   "cell_type": "markdown",
   "metadata": {},
   "source": [
    "Since we work with monopoly, we know that the marginal revenue, MR, always will be equal to the marginal cost,MC. First we define the marginal revenue\n",
    "\\begin{equation}\n",
    "MR=\\frac{\\partial R}{\\partial Q}=0 \n",
    "\\leftrightarrow\n",
    "\\end{equation}\n",
    "\\begin{equation}\n",
    "MR=1-2bQ\n",
    "\\end{equation}\n"
   ]
  },
  {
   "cell_type": "code",
   "execution_count": 11,
   "metadata": {},
   "outputs": [],
   "source": [
    "def reaction(c1):\n",
    "    x1 = optimize.brute(lambda x: -revenue(x,c1), ((0,1,),), Ns=10000) # brute minimizes the function;\n",
    "                                                                 # when we minimize -profits, we maximize profits\n",
    "    return x1[0]                             "
   ]
  },
  {
   "cell_type": "code",
   "execution_count": 12,
   "metadata": {},
   "outputs": [],
   "source": [
    "def vector_reaction(x,param): # vector param = (b,c1,c2)\n",
    "    return array(x)-array([reaction(param[0])])"
   ]
  },
  {
   "cell_type": "markdown",
   "metadata": {},
   "source": [
    "We now define the marginal cost:\n",
    "\\begin{equation}\n",
    "MC=c\n",
    "\\end{equation}\n",
    "\n",
    "We now set MR=MC\n",
    "\n",
    "\\begin{equation}\n",
    "MR=MC\n",
    "\\leftrightarrow\n",
    "\\end{equation}\n",
    "\n",
    "\\begin{equation}\n",
    "1-2bQ=c \\leftrightarrow\n",
    "\\end{equation}\n",
    "\n",
    "\\begin{equation}\n",
    "1-c=2bQ \\leftrightarrow\n",
    "\\end{equation}\n",
    "\n",
    "\\begin{equation}\n",
    "\\frac{1-c}{2b}=Q\n",
    "\\end{equation}\n",
    "\n",
    "\\begin{equation}\n",
    "Q^{Monopoly}=\\frac{1-c}{2b}\n",
    "\\end{equation}\n",
    "\n",
    "As we are working with monopoly now, we do not chose whenever a product is a perfect substitute or perfect compliment. Now the only important factor is how much it cost the monopoly firm to produce the given good"
   ]
  },
  {
   "cell_type": "code",
   "execution_count": 13,
   "metadata": {},
   "outputs": [
    {
     "data": {
      "application/vnd.jupyter.widget-view+json": {
       "model_id": "6787f6076e744727be9dfddfdde857ff",
       "version_major": 2,
       "version_minor": 0
      },
      "text/plain": [
       "BoundedFloatText(value=0.0, continuous_update=True, description='Monopoly cost', max=0.5, step=0.01)"
      ]
     },
     "metadata": {},
     "output_type": "display_data"
    }
   ],
   "source": [
    "costM = widgets.BoundedFloatText(\n",
    "    value = 0.00,\n",
    "    min = 0.00,\n",
    "    max = 0.50,\n",
    "    step = 0.01,\n",
    "    description = 'Monopoly cost',\n",
    "    disabled = False,\n",
    "    continuous_update = True,\n",
    "    readout = True,\n",
    "    readout_format = '.2f'\n",
    ")\n",
    "costM"
   ]
  },
  {
   "cell_type": "markdown",
   "metadata": {},
   "source": [
    "We can now identify the monopoly price by inserting the monopoly quantity in the inverse demand function:\n",
    "\\begin{equation}\n",
    "p^{Monopoly}=1-bQ^{Monopoly} \n",
    "\\leftrightarrow\n",
    "\\end{equation}\n",
    "\n",
    "\\begin{equation}\n",
    "p^{monopoly}=1-b\\frac{1-c}{2b}\n",
    "\\leftrightarrow\n",
    "\\end{equation}\n",
    "\n",
    "\n",
    "\\begin{equation}\n",
    "p^{monopoly}=1+\\frac{-b+bc}{2b}\n",
    "\\leftrightarrow\n",
    "\\end{equation}\n",
    "\n",
    "\\begin{equation}\n",
    "p^{monopoly}=1+\\frac{-1+c}{2}\n",
    "\\leftrightarrow\n",
    "\\end{equation}\n",
    "\n",
    "\\begin{equation}\n",
    "p^{monopoly}= \\frac{1+c}{2}\n",
    "\\end{equation}\n",
    "\n",
    "Note: Same rules apply to this button as to the last one. That said, there is a minor bug, where when you press the previous button this button will show its result. Once this new button is pressed the values update to correct monopoly values"
   ]
  },
  {
   "cell_type": "code",
   "execution_count": 19,
   "metadata": {},
   "outputs": [
    {
     "data": {
      "application/vnd.jupyter.widget-view+json": {
       "model_id": "dc5bc80e126c45089ab1ebd508c25516",
       "version_major": 2,
       "version_minor": 0
      },
      "text/plain": [
       "VBox(children=(Button(description='Calculate Monopoly', style=ButtonStyle()), Output()))"
      ]
     },
     "metadata": {},
     "output_type": "display_data"
    }
   ],
   "source": [
    "param = [costM.value]\n",
    "x0 = [0.0]\n",
    "\n",
    "ansM = optimize.fsolve(vector_reaction, x0, args = (param))\n",
    "\n",
    "\n",
    "button = widgets.Button(description='Calculate Monopoly')\n",
    "out = widgets.Output() \n",
    "\n",
    "def on_button_clicked(b):\n",
    "    with out:\n",
    "        refresh_output()\n",
    "        print(sub)\n",
    "\n",
    "\n",
    "def on_button_clicked(b):\n",
    "    with out:\n",
    "        clear_output()\n",
    "        print(ansM)\n",
    "\n",
    "# linking button and function together using a button's method\n",
    "button.on_click(on_button_clicked)\n",
    "# displaying button and its output together\n",
    "widgets.VBox([button,out])"
   ]
  }
 ],
 "metadata": {
  "kernelspec": {
   "display_name": "Python 3",
   "language": "python",
   "name": "python3"
  },
  "language_info": {
   "codemirror_mode": {
    "name": "ipython",
    "version": 3
   },
   "file_extension": ".py",
   "mimetype": "text/x-python",
   "name": "python",
   "nbconvert_exporter": "python",
   "pygments_lexer": "ipython3",
   "version": "3.7.1"
  }
 },
 "nbformat": 4,
 "nbformat_minor": 2
}
